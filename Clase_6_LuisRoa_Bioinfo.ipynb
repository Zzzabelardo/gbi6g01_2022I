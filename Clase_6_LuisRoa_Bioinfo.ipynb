{
  "nbformat": 4,
  "nbformat_minor": 0,
  "metadata": {
    "colab": {
      "name": "Clase_6_LuisRoa_Bioinfo.ipynb",
      "provenance": [],
      "authorship_tag": "ABX9TyNGXKZxbXJl31pTYGmEqBmS",
      "include_colab_link": true
    },
    "kernelspec": {
      "name": "python3",
      "display_name": "Python 3"
    },
    "language_info": {
      "name": "python"
    }
  },
  "cells": [
    {
      "cell_type": "markdown",
      "metadata": {
        "id": "view-in-github",
        "colab_type": "text"
      },
      "source": [
        "<a href=\"https://colab.research.google.com/github/Zzzabelardo/gbi6g01_2022I/blob/main/Clase_6_LuisRoa_Bioinfo.ipynb\" target=\"_parent\"><img src=\"https://colab.research.google.com/assets/colab-badge.svg\" alt=\"Open In Colab\"/></a>"
      ]
    },
    {
      "cell_type": "markdown",
      "source": [
        "# BIOINFORMÁTICA\n",
        "\n",
        "## CLASE 6: Introducción a Python\n",
        "\n",
        "En esta clase vamos a revisar los siguientes contenidos\n",
        "\n",
        "1. Historia de Python\n",
        "2. Tipos de datis\n",
        "3. Operaciones con números\n",
        "4. Operaciones de texto\n",
        "\n",
        "### 1. Historia de Python\n",
        "\n",
        "La historia de Python se puede leer en la siguiente página web [Python](https://www.python.org/doc/) "
      ],
      "metadata": {
        "id": "dc9iCgy8ysof"
      }
    },
    {
      "cell_type": "markdown",
      "source": [
        "### 2. Tipos de datos\n",
        "\n",
        "- Numéricos: \n",
        "\n",
        "  *   Enteros (integer, int)\n",
        "  *   Decimales (double)\n",
        "  *   Complejos (complex)\n",
        "\n",
        "- Lógicos: \n",
        "\n",
        "  * Verdadero (TRUE, T)\n",
        "  * Falso (FALSE, F)\n",
        "\n",
        "- Texto: \n",
        "\n",
        "  * Cadena de caracteres \"Siempre entre comillas\""
      ],
      "metadata": {
        "id": "RXHn_bCz0Uuf"
      }
    },
    {
      "cell_type": "code",
      "execution_count": 7,
      "metadata": {
        "id": "IDnbwsqLw2UJ"
      },
      "outputs": [],
      "source": [
        "gen1_r = 1.5\n",
        "gen1_h = 1.7\n",
        "dif_gen1 = gen1_r - gen1_h\n",
        "ratio_gen1 = gen1_r / gen1_h"
      ]
    },
    {
      "cell_type": "code",
      "source": [
        "print(\"gen1_r:\", gen1_r)\n",
        "print(\"gen1_h:\", gen1_h)\n",
        "print(\"dif_gen1:\", dif_gen1)\n",
        "print(\"ratio_gen1:\", ratio_gen1)"
      ],
      "metadata": {
        "colab": {
          "base_uri": "https://localhost:8080/"
        },
        "id": "JFdLKr3c53-u",
        "outputId": "468ccfd9-3daf-42de-d7ee-c839b305b0fd"
      },
      "execution_count": 9,
      "outputs": [
        {
          "output_type": "stream",
          "name": "stdout",
          "text": [
            "gen1_r: 1.5\n",
            "gen1_h: 1.7\n",
            "dif_gen1: -0.19999999999999996\n",
            "ratio_gen1: 0.8823529411764706\n"
          ]
        }
      ]
    },
    {
      "cell_type": "code",
      "source": [
        "saludo = \"hola a tod@s, disfrutan sin prueba?\"\n",
        "saludo.capitalize()"
      ],
      "metadata": {
        "colab": {
          "base_uri": "https://localhost:8080/",
          "height": 35
        },
        "id": "27SFNH2a76-4",
        "outputId": "94cf6a9c-a054-48de-fd69-0757f3b6e18a"
      },
      "execution_count": 43,
      "outputs": [
        {
          "output_type": "execute_result",
          "data": {
            "text/plain": [
              "'Hola a tod@s, disfrutan sin prueba?'"
            ],
            "application/vnd.google.colaboratory.intrinsic+json": {
              "type": "string"
            }
          },
          "metadata": {},
          "execution_count": 43
        }
      ]
    },
    {
      "cell_type": "code",
      "source": [
        "saludo = \"hola a tod@s, disfrutan sin prueba?\"\n",
        "saludo.upper()"
      ],
      "metadata": {
        "colab": {
          "base_uri": "https://localhost:8080/",
          "height": 35
        },
        "id": "yUEcdzM99iYN",
        "outputId": "25d534f8-2bb3-4add-d714-258e7229719e"
      },
      "execution_count": 44,
      "outputs": [
        {
          "output_type": "execute_result",
          "data": {
            "text/plain": [
              "'HOLA A TOD@S, DISFRUTAN SIN PRUEBA?'"
            ],
            "application/vnd.google.colaboratory.intrinsic+json": {
              "type": "string"
            }
          },
          "metadata": {},
          "execution_count": 44
        }
      ]
    },
    {
      "cell_type": "code",
      "source": [
        "len(saludo)"
      ],
      "metadata": {
        "colab": {
          "base_uri": "https://localhost:8080/"
        },
        "id": "3cPIkZBJ9b3P",
        "outputId": "fb7bee5e-d6d8-4509-cef5-807fe0056099"
      },
      "execution_count": 14,
      "outputs": [
        {
          "output_type": "execute_result",
          "data": {
            "text/plain": [
              "27"
            ]
          },
          "metadata": {},
          "execution_count": 14
        }
      ]
    },
    {
      "cell_type": "code",
      "source": [
        "# En este bloque se revisa el uso combinado de funciones\n",
        "total = len(saludo)\n",
        "char_a = saludo.count(\"a\")\n",
        "ratio_a = (char_a / total)*100\n",
        "print(\"total\", total)\n",
        "print(\"char_a\", char_a)\n",
        "print(\"ratio_a\", ratio_a)"
      ],
      "metadata": {
        "colab": {
          "base_uri": "https://localhost:8080/"
        },
        "id": "GD3FxqjS-O9R",
        "outputId": "253275e2-be7e-4e7b-8487-9a7c8185c194"
      },
      "execution_count": 19,
      "outputs": [
        {
          "output_type": "stream",
          "name": "stdout",
          "text": [
            "total 27\n",
            "char_a 3\n",
            "ratio_a 11.11111111111111\n"
          ]
        }
      ]
    },
    {
      "cell_type": "markdown",
      "source": [
        "# PORCENTAJE DE GC\n",
        "Calcular el porcentaje de contenido de nucleótidos G y C"
      ],
      "metadata": {
        "id": "m5SnpQCK_vza"
      }
    },
    {
      "cell_type": "markdown",
      "source": [
        "Calcular el porcentaje de GC"
      ],
      "metadata": {
        "id": "9tE_N0RYBExJ"
      }
    },
    {
      "cell_type": "code",
      "source": [
        "p53_l1 = \"TTCCTGGNCTGTAGGTAGCGACTACAGTTAGGGGGCACCTAGCATTCAGGCCCTCATCCTCCTCCTTCCC\"\n",
        "total_l1 = len(p53_l1)\n",
        "char_l1 = p53_l1.count(\"G\") + p53_l1.count(\"C\")\n",
        "ratio_l1 = (char_l1 / total_l1)*100\n",
        "print(\"total_l1\", total_l1)\n",
        "print(\"char_l1\", char_l1)\n",
        "print(\"ratio_l1\", ratio_l1)"
      ],
      "metadata": {
        "colab": {
          "base_uri": "https://localhost:8080/"
        },
        "id": "XyFtqubW_8s1",
        "outputId": "f38fa560-cdc6-4c23-fb99-5628e3fa1ea1"
      },
      "execution_count": 33,
      "outputs": [
        {
          "output_type": "stream",
          "name": "stdout",
          "text": [
            "total_l1 70\n",
            "char_l1 40\n",
            "ratio_l1 57.14285714285714\n"
          ]
        }
      ]
    },
    {
      "cell_type": "code",
      "source": [
        "percent_GC = 100*(p53_l1.count(\"G\") + p53_l1.count(\"C\"))/len(p53_l1)\n",
        "print(\"Porcentaje GC en P53_l1:\", round(percent_GC, 3))"
      ],
      "metadata": {
        "colab": {
          "base_uri": "https://localhost:8080/"
        },
        "id": "mhRmst_rFDxG",
        "outputId": "f02a7efd-1ea4-47d8-c602-0e759cc04041"
      },
      "execution_count": 34,
      "outputs": [
        {
          "output_type": "stream",
          "name": "stdout",
          "text": [
            "Porcentaje GC en P53_l1: 57.143\n"
          ]
        }
      ]
    },
    {
      "cell_type": "markdown",
      "source": [
        "### SUBCONJUNTO"
      ],
      "metadata": {
        "id": "ZnVW6HVAMAk0"
      }
    },
    {
      "cell_type": "code",
      "source": [
        "# Subconjunto\n",
        "print(p53_l1)\n",
        "fi = p53_l1.find(\"TAC\")\n",
        "print(\"fi:\", fi)\n",
        "ff1 = p53_l1.find(\"ATT\")\n",
        "ff2 = p53_l1.find(\"ATC\")\n",
        "ff3 = p53_l1.find(\"ACT\")\n",
        "print(\"ff1:\", ff1)\n",
        "print(\"ff2:\", ff2)\n",
        "print(\"ff3:\", ff3)"
      ],
      "metadata": {
        "colab": {
          "base_uri": "https://localhost:8080/"
        },
        "id": "To98Y_L9MEyE",
        "outputId": "ca3149db-05d7-4efb-dda3-f45a522e5874"
      },
      "execution_count": 37,
      "outputs": [
        {
          "output_type": "stream",
          "name": "stdout",
          "text": [
            "TTCCTGGNCTGTAGGTAGCGACTACAGTTAGGGGGCACCTAGCATTCAGGCCCTCATCCTCCTCCTTCCC\n",
            "fi: 22\n",
            "ff1: 43\n",
            "ff2: 55\n",
            "ff3: 20\n"
          ]
        }
      ]
    },
    {
      "cell_type": "code",
      "source": [
        "print(p53_l1[3:6])\n",
        "print(p53_l1[0:2])"
      ],
      "metadata": {
        "colab": {
          "base_uri": "https://localhost:8080/"
        },
        "id": "lHWe2lCtOdzX",
        "outputId": "53982866-9fff-4efd-c389-2656baa7f58a"
      },
      "execution_count": 41,
      "outputs": [
        {
          "output_type": "stream",
          "name": "stdout",
          "text": [
            "CTG\n",
            "TT\n"
          ]
        }
      ]
    },
    {
      "cell_type": "code",
      "source": [
        "mRNA_f1 = p53_l1[fi:ff1+3]\n",
        "mRNA_f1"
      ],
      "metadata": {
        "colab": {
          "base_uri": "https://localhost:8080/",
          "height": 35
        },
        "id": "6vvb92HGQAj1",
        "outputId": "8a0ff4aa-4340-42b4-8376-8f3192e9d0cf"
      },
      "execution_count": 39,
      "outputs": [
        {
          "output_type": "execute_result",
          "data": {
            "text/plain": [
              "'TACAGTTAGGGGGCACCTAGCATT'"
            ],
            "application/vnd.google.colaboratory.intrinsic+json": {
              "type": "string"
            }
          },
          "metadata": {},
          "execution_count": 39
        }
      ]
    },
    {
      "cell_type": "code",
      "source": [
        "# Cadena complementaria\n",
        "print(saludo)\n",
        "saludo.replace(\"@\",\"o\")"
      ],
      "metadata": {
        "colab": {
          "base_uri": "https://localhost:8080/",
          "height": 53
        },
        "id": "7pgBOEZrRKJL",
        "outputId": "3c54749e-3933-40fd-d63e-bb03e5e78823"
      },
      "execution_count": 45,
      "outputs": [
        {
          "output_type": "stream",
          "name": "stdout",
          "text": [
            "hola a tod@s, disfrutan sin prueba?\n"
          ]
        },
        {
          "output_type": "execute_result",
          "data": {
            "text/plain": [
              "'hola a todos, disfrutan sin prueba?'"
            ],
            "application/vnd.google.colaboratory.intrinsic+json": {
              "type": "string"
            }
          },
          "metadata": {},
          "execution_count": 45
        }
      ]
    },
    {
      "cell_type": "code",
      "source": [
        "p53_a = p53_l1.replace(\"A\",\"t\")\n",
        "p53_t = p53_a.replace(\"T\",\"a\")\n",
        "p53_g = p53_t.replace(\"G\",\"c\")\n",
        "p53_c = p53_g.replace(\"C\",\"g\")\n",
        "p53_complementario = p53_c.upper()\n",
        "print(p53_a)\n",
        "print(p53_t) \n",
        "print(p53_g)\n",
        "print(p53_c) \n",
        "print(p53_complementario)"
      ],
      "metadata": {
        "colab": {
          "base_uri": "https://localhost:8080/"
        },
        "id": "gLiWxg_YR8Wx",
        "outputId": "b07193bb-6384-417d-b2fd-d05e33d36c09"
      },
      "execution_count": 59,
      "outputs": [
        {
          "output_type": "stream",
          "name": "stdout",
          "text": [
            "TTCCTGGNCTGTtGGTtGCGtCTtCtGTTtGGGGGCtCCTtGCtTTCtGGCCCTCtTCCTCCTCCTTCCC\n",
            "aaCCaGGNCaGatGGatGCGtCatCtGaatGGGGGCtCCatGCtaaCtGGCCCaCtaCCaCCaCCaaCCC\n",
            "aaCCaccNCacatccatcCctCatCtcaatcccccCtCCatcCtaaCtccCCCaCtaCCaCCaCCaaCCC\n",
            "aaggaccNgacatccatcgctgatgtcaatcccccgtggatcgtaagtccgggagtaggaggaggaaggg\n",
            "AAGGACCNGACATCCATCGCTGATGTCAATCCCCCGTGGATCGTAAGTCCGGGAGTAGGAGGAGGAAGGG\n"
          ]
        }
      ]
    },
    {
      "cell_type": "code",
      "source": [
        "print(\"p53_l1:\",p53_l1)\n",
        "print(\"p53_complementario:\",p53_complementario)"
      ],
      "metadata": {
        "colab": {
          "base_uri": "https://localhost:8080/"
        },
        "id": "T7a7KezmT4jQ",
        "outputId": "83134fd4-5386-4888-a927-7da4f22b29c2"
      },
      "execution_count": 61,
      "outputs": [
        {
          "output_type": "stream",
          "name": "stdout",
          "text": [
            "p53_l1: TTCCTGGNCTGTAGGTAGCGACTACAGTTAGGGGGCACCTAGCATTCAGGCCCTCATCCTCCTCCTTCCC\n",
            "p53_complementario: AAGGACCNGACATCCATCGCTGATGTCAATCCCCCGTGGATCGTAAGTCCGGGAGTAGGAGGAGGAAGGG\n"
          ]
        }
      ]
    },
    {
      "cell_type": "code",
      "source": [
        "p53_l1c_r = p53_complementario[::-1]\n",
        "print(\"Original:\",p53_complementario)\n",
        "print(\"Complementario reverse:\", p53_l1c_r)"
      ],
      "metadata": {
        "colab": {
          "base_uri": "https://localhost:8080/"
        },
        "id": "CLLHMLuyWGpg",
        "outputId": "e483c134-e7fa-4ad6-832c-9671220d02b5"
      },
      "execution_count": 62,
      "outputs": [
        {
          "output_type": "stream",
          "name": "stdout",
          "text": [
            "Original: AAGGACCNGACATCCATCGCTGATGTCAATCCCCCGTGGATCGTAAGTCCGGGAGTAGGAGGAGGAAGGG\n",
            "Complementario reverse: GGGAAGGAGGAGGATGAGGGCCTGAATGCTAGGTGCCCCCTAACTGTAGTCGCTACCTACAGNCCAGGAA\n"
          ]
        }
      ]
    },
    {
      "cell_type": "code",
      "source": [
        "print(p53_l1c_r)\n",
        "fi_c = p53_l1c_r.find(\"TAC\")\n",
        "print(\"fi:\", fi)\n",
        "ff1_c_r = p53_l1c_r.find(\"ATT\")\n",
        "ff2_c_r = p53_l1c_r.find(\"ATC\")\n",
        "ff3_c_r = p53_l1c_r.find(\"ACT\")\n",
        "print(\"ff1_c_r:\", ff1_c_r)\n",
        "print(\"ff2_c_r:\", ff2_c_r)\n",
        "print(\"ff3_c_r:\", ff3_c_r)"
      ],
      "metadata": {
        "colab": {
          "base_uri": "https://localhost:8080/"
        },
        "id": "rG9w9WC6Wss9",
        "outputId": "37bf4983-b232-4864-fa02-5bddcc06a8f5"
      },
      "execution_count": 63,
      "outputs": [
        {
          "output_type": "stream",
          "name": "stdout",
          "text": [
            "GGGAAGGAGGAGGATGAGGGCCTGAATGCTAGGTGCCCCCTAACTGTAGTCGCTACCTACAGNCCAGGAA\n",
            "fi: 22\n",
            "ff1_c_r: -1\n",
            "ff2_c_r: -1\n",
            "ff3_c_r: 42\n"
          ]
        }
      ]
    },
    {
      "cell_type": "code",
      "source": [
        "p53_l1c_r = \"GGGAAGGAGGAGGATGAGGGCCTGAATGCTAGGTGCCCCCTAACTGTAGTCGCTACCTACAGNCCAGGAA\"\n",
        "total_l1c_r = len(p53_l1c_r)\n",
        "char_l1c_r = p53_l1c_r.count(\"G\") + p53_l1c_r.count(\"C\")\n",
        "ratio_l1c_r = (char_l1c_r / total_l1c_r)*100\n",
        "print(\"total_l1c_r\", total_l1c_r)\n",
        "print(\"char_l1c_r\", char_l1c_r)\n",
        "print(\"ratio_l1c_r\", ratio_l1c_r)"
      ],
      "metadata": {
        "colab": {
          "base_uri": "https://localhost:8080/"
        },
        "id": "Lstd3C3PX5YI",
        "outputId": "c6fef3e9-1adf-442d-d99f-e6467cd48580"
      },
      "execution_count": 65,
      "outputs": [
        {
          "output_type": "stream",
          "name": "stdout",
          "text": [
            "total_l1c_r 70\n",
            "char_l1c_r 40\n",
            "ratio_l1c_r 57.14285714285714\n"
          ]
        }
      ]
    }
  ]
}